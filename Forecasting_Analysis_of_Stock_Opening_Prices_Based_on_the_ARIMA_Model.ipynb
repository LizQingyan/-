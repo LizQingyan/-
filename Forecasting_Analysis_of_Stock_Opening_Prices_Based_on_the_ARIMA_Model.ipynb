{
 "cells": [
  {
   "cell_type": "markdown",
   "id": "2bcd9a63-6bf8-429f-9f6a-06827e6f140d",
   "metadata": {},
   "source": [
    "# 基于ARIMA模型对股票开盘价的预测分析"
   ]
  },
  {
   "cell_type": "markdown",
   "id": "f034fccb-0277-4b6d-9fff-9d34b11be169",
   "metadata": {},
   "source": [
    "  数据来源于tushare模块pro接口获取，采用ARIMA时间序列模型对股票啊未来7天的开盘价进行预测。ARIMA模型（Autoregressive Integrated Moving Average model）是时间序列预测分析方法之一，全称叫做自回归差分移动平均模型。ARIMA模型包含3个部分，即自回归（AR）、差分（I）和移动平均（MA）。ARIMA模型记作ARIMA(p，d，q)，p为自回归项数；q为滑动均项数，d为使之成为稳序列所做的差分次数（阶数）。“差分”是关键步骤，采用ARIMA模型预测的时序数据，必须是稳定的（稳性），不稳定的数据，是无法捕捉到时序规律的。\n",
    "  预测结果**可以与其他模型、市场知识和严格的风险管理结合使用，共同为投资决策提供支持。**"
   ]
  },
  {
   "cell_type": "markdown",
   "id": "19834ad1-00d8-4fd6-9801-8d5f6d3250e5",
   "metadata": {},
   "source": [
    "## 一、导入必要的库"
   ]
  },
  {
   "cell_type": "code",
   "execution_count": 1,
   "id": "af46a960-e114-4169-a8b8-699be51c3561",
   "metadata": {},
   "outputs": [],
   "source": [
    "# 导入所需的库\n",
    "import pandas as pd\n",
    "import numpy as np\n",
    "import matplotlib.pyplot as plt\n",
    "from statsmodels.tsa.arima.model import ARIMA\n",
    "from sklearn.metrics import mean_squared_error, mean_absolute_error\n",
    "from math import sqrt\n",
    "import warnings\n",
    "warnings.filterwarnings('ignore')\n",
    "\n",
    "# 设置中文字体\n",
    "plt.rcParams['font.sans-serif'] = ['SimHei']\n",
    "plt.rcParams['axes.unicode_minus'] = False"
   ]
  },
  {
   "cell_type": "markdown",
   "id": "5a5fbf37-d15d-4c77-87af-e680242e0153",
   "metadata": {},
   "source": [
    "## 二、读取数据、预处理"
   ]
  },
  {
   "cell_type": "code",
   "execution_count": 2,
   "id": "60f91b2b-7c21-46f4-a33c-946bf09e0584",
   "metadata": {},
   "outputs": [],
   "source": [
    "# 加载数据\n",
    "df = pd.read_csv('D:/DA_Projects/data/AMZN.csv')"
   ]
  },
  {
   "cell_type": "code",
   "execution_count": 3,
   "id": "37f64095-e8aa-4bee-95d4-77942df019da",
   "metadata": {},
   "outputs": [
    {
     "name": "stdout",
     "output_type": "stream",
     "text": [
      "数据概览:\n",
      "       Date        Open        High         Low       Close   Adj Close  \\\n",
      "0  2021-9-1  174.820007  176.350006  173.761993  173.949997  173.949997   \n",
      "1  2021-9-2  174.738007  175.598007  172.750000  173.156006  173.156006   \n",
      "2  2021-9-3  172.600006  174.133499  171.822006  173.902496  173.902496   \n",
      "3  2021-9-7  173.899994  176.404495  173.847000  175.464493  175.464493   \n",
      "4  2021-9-8  175.582504  177.281494  174.783493  176.274994  176.274994   \n",
      "\n",
      "     Volume Company_name  \n",
      "0  72598000       Amazon  \n",
      "1  58474000       Amazon  \n",
      "2  51514000       Amazon  \n",
      "3  54758000       Amazon  \n",
      "4  61068000       Amazon  \n"
     ]
    }
   ],
   "source": [
    "print(\"数据概览:\")\n",
    "print(df.head())"
   ]
  },
  {
   "cell_type": "code",
   "execution_count": 4,
   "id": "be096683-dd81-45b7-aa90-c706dee9e026",
   "metadata": {},
   "outputs": [
    {
     "name": "stdout",
     "output_type": "stream",
     "text": [
      "\n",
      "数据信息:\n",
      "<class 'pandas.core.frame.DataFrame'>\n",
      "RangeIndex: 252 entries, 0 to 251\n",
      "Data columns (total 8 columns):\n",
      " #   Column        Non-Null Count  Dtype  \n",
      "---  ------        --------------  -----  \n",
      " 0   Date          252 non-null    object \n",
      " 1   Open          252 non-null    float64\n",
      " 2   High          252 non-null    float64\n",
      " 3   Low           252 non-null    float64\n",
      " 4   Close         252 non-null    float64\n",
      " 5   Adj Close     252 non-null    float64\n",
      " 6   Volume        252 non-null    int64  \n",
      " 7   Company_name  252 non-null    object \n",
      "dtypes: float64(5), int64(1), object(2)\n",
      "memory usage: 15.9+ KB\n",
      "None\n"
     ]
    }
   ],
   "source": [
    "print(\"\\n数据信息:\")\n",
    "print(df.info())"
   ]
  },
  {
   "cell_type": "code",
   "execution_count": 5,
   "id": "3d26aeee-48b4-4c13-b1eb-a085120d5c5f",
   "metadata": {},
   "outputs": [
    {
     "name": "stdout",
     "output_type": "stream",
     "text": [
      "\n",
      "缺失值统计:\n"
     ]
    },
    {
     "data": {
      "text/plain": [
       "Series([], dtype: int64)"
      ]
     },
     "metadata": {},
     "output_type": "display_data"
    }
   ],
   "source": [
    "# 检查缺失值\n",
    "print(\"\\n缺失值统计:\")\n",
    "missing_data = df.isnull().sum()\n",
    "display(missing_data[missing_data > 0])"
   ]
  },
  {
   "cell_type": "code",
   "execution_count": 6,
   "id": "dc1122f1-85aa-4933-ab82-b3235609b6b8",
   "metadata": {},
   "outputs": [],
   "source": [
    "# 数据预处理\n",
    "# 确保日期格式正确并按日期排序\n",
    "df['Date'] = pd.to_datetime(df['Date'])\n",
    "df = df.sort_values('Date').set_index('Date')"
   ]
  },
  {
   "cell_type": "code",
   "execution_count": 7,
   "id": "6d8ed962-22c2-4cb4-9072-12bea479e21b",
   "metadata": {},
   "outputs": [
    {
     "name": "stdout",
     "output_type": "stream",
     "text": [
      "                  Open        High         Low       Close   Adj Close  \\\n",
      "Date                                                                     \n",
      "2021-09-01  174.820007  176.350006  173.761993  173.949997  173.949997   \n",
      "2021-09-02  174.738007  175.598007  172.750000  173.156006  173.156006   \n",
      "2021-09-03  172.600006  174.133499  171.822006  173.902496  173.902496   \n",
      "2021-09-07  173.899994  176.404495  173.847000  175.464493  175.464493   \n",
      "2021-09-08  175.582504  177.281494  174.783493  176.274994  176.274994   \n",
      "\n",
      "              Volume Company_name  \n",
      "Date                               \n",
      "2021-09-01  72598000       Amazon  \n",
      "2021-09-02  58474000       Amazon  \n",
      "2021-09-03  51514000       Amazon  \n",
      "2021-09-07  54758000       Amazon  \n",
      "2021-09-08  61068000       Amazon  \n"
     ]
    }
   ],
   "source": [
    "print(df.head())"
   ]
  },
  {
   "cell_type": "code",
   "execution_count": 8,
   "id": "173c491a-1b02-4f06-b0d0-831f5c54a4ca",
   "metadata": {},
   "outputs": [],
   "source": [
    "# 使用开盘价作为时间序列\n",
    "ts = df['Open']"
   ]
  },
  {
   "cell_type": "code",
   "execution_count": 9,
   "id": "0cbb7a97-c119-451c-b0f2-edf0bf0a6f3c",
   "metadata": {},
   "outputs": [
    {
     "data": {
      "text/plain": [
       "Date\n",
       "2021-09-01    174.820007\n",
       "2021-09-02    174.738007\n",
       "2021-09-03    172.600006\n",
       "2021-09-07    173.899994\n",
       "2021-09-08    175.582504\n",
       "Name: Open, dtype: float64"
      ]
     },
     "execution_count": 9,
     "metadata": {},
     "output_type": "execute_result"
    }
   ],
   "source": [
    "ts.head()"
   ]
  },
  {
   "cell_type": "markdown",
   "id": "c5b7aaac-737a-4559-8ff0-1c8531a256a9",
   "metadata": {},
   "source": [
    "## 三、划分训练集和测试集"
   ]
  },
  {
   "cell_type": "code",
   "execution_count": 10,
   "id": "59292e47-16e8-48f0-96e6-d3c501a856eb",
   "metadata": {},
   "outputs": [],
   "source": [
    "# 划分训练集和测试集\n",
    "# 将最后7天作为测试集，其余作为训练集\n",
    "train_size = len(ts) - 7\n",
    "train, test = ts[0:train_size], ts[train_size:]"
   ]
  },
  {
   "cell_type": "code",
   "execution_count": 11,
   "id": "4a47417b-e9c5-43d3-9349-bd4310065af5",
   "metadata": {},
   "outputs": [
    {
     "name": "stdout",
     "output_type": "stream",
     "text": [
      "训练集大小: 245\n",
      "测试集大小: 7\n"
     ]
    }
   ],
   "source": [
    "print(f\"训练集大小: {len(train)}\")\n",
    "print(f\"测试集大小: {len(test)}\")"
   ]
  },
  {
   "cell_type": "markdown",
   "id": "5517fa54-7d33-4928-8530-52ef6e37715f",
   "metadata": {},
   "source": [
    "ARIMA要求序列平稳，若不平稳则需差分。ADF检验（Augmented Dickey-Fuller test）是判断时间序列是否平稳的常用统计检验方法。\n",
    "ADF检验的原假设(H₀)是：时间序列具有单位根（即是非平稳的）。\n",
    "备择假设(H₁)是：时间序列没有单位根（即是平稳的）。\n",
    "如果p-value ≤ 0.05：拒绝原假设，认为序列是平稳的。\n",
    "如果p-value > 0.05：不能拒绝原假设，认为序列是非平稳的。\n",
    "如果ADF统计量 （Test Statistic ）< 临界值(1%)（Critical Value (1%)  ）：在99%置信水平下拒绝原假设，序列平稳；\n",
    "如果ADF统计量 < 临界值(5%)：在95%置信水平下拒绝原假设，序列平稳；\n",
    "如果ADF统计量 < 临界值(10%)：在90%置信水平下拒绝原假设，序列平稳；\n",
    "如果ADF统计量 > 所有临界值：不能拒绝原假设，序列非平稳。"
   ]
  },
  {
   "cell_type": "markdown",
   "id": "d6e79c0b-4899-4dd0-bbcf-3db6b7ebfadb",
   "metadata": {},
   "source": [
    "## 四、参数确定"
   ]
  },
  {
   "cell_type": "code",
   "execution_count": 12,
   "id": "338deecc-b09b-4767-a8a7-cd73e7fa7c7b",
   "metadata": {},
   "outputs": [
    {
     "name": "stdout",
     "output_type": "stream",
     "text": [
      "原始序列的ADF检验:\n",
      "Test Statistic                  -1.447105\n",
      "p-value                          0.559497\n",
      "#Lags Used                       0.000000\n",
      "Number of Observations Used    244.000000\n",
      "Critical Value (1%)             -3.457438\n",
      "Critical Value (5%)             -2.873459\n",
      "Critical Value (10%)            -2.573122\n",
      "dtype: float64\n"
     ]
    }
   ],
   "source": [
    "# 寻找最佳ARIMA参数 (p,d,q)\n",
    "# 首先检查序列的平稳性，确定d值\n",
    "from statsmodels.tsa.stattools import adfuller\n",
    "\n",
    "def check_stationarity(timeseries):\n",
    "    # 执行Dickey-Fuller检验\n",
    "    dftest = adfuller(timeseries, autolag='AIC')\n",
    "    dfoutput = pd.Series(dftest[0:4], index=['Test Statistic', 'p-value', '#Lags Used', 'Number of Observations Used'])\n",
    "    for key, value in dftest[4].items():\n",
    "        dfoutput['Critical Value (%s)' % key] = value\n",
    "    return dfoutput\n",
    "\n",
    "print(\"原始序列的ADF检验:\")\n",
    "print(check_stationarity(train))"
   ]
  },
  {
   "cell_type": "markdown",
   "id": "d76a92c1-30eb-41d0-bd01-168478bf765d",
   "metadata": {},
   "source": [
    "由以上的结果可知：p-value > 0.05，且ADF统计量 > 所有临界值，所以不能拒绝原假设，即序列非平稳，需要进行差分直到序列平稳，从而确定模型中的d参数。"
   ]
  },
  {
   "cell_type": "code",
   "execution_count": 13,
   "id": "8002075c-cd00-4da0-af0e-5c40cc57b995",
   "metadata": {},
   "outputs": [
    {
     "name": "stdout",
     "output_type": "stream",
     "text": [
      "一阶差分后的ADF检验:\n",
      "Test Statistic                -1.539973e+01\n",
      "p-value                        3.227146e-28\n",
      "#Lags Used                     0.000000e+00\n",
      "Number of Observations Used    2.430000e+02\n",
      "Critical Value (1%)           -3.457551e+00\n",
      "Critical Value (5%)           -2.873509e+00\n",
      "Critical Value (10%)          -2.573148e+00\n",
      "dtype: float64\n"
     ]
    }
   ],
   "source": [
    "# 先进行一阶差分后查看序列是否平稳\n",
    "d = 1\n",
    "train_diff = train.diff().dropna()\n",
    "\n",
    "print(\"一阶差分后的ADF检验:\")\n",
    "print(check_stationarity(train_diff))"
   ]
  },
  {
   "cell_type": "markdown",
   "id": "94c0592c-5820-42dd-99f7-be09f4e4c8d4",
   "metadata": {},
   "source": [
    "经过一阶差分后，p-value < 0.05，且ADF统计量Test Statistic < 所有临界值Critical Value，所以可以拒绝原假设，认为序列平稳，确定参数d取1。接下来是确定参数p和q,其中p由PACF图（偏自相关图）确定，q则是由ACF图（自相关图）确定。通过查看图中在某个滞后阶数上截尾（显著）。"
   ]
  },
  {
   "cell_type": "code",
   "execution_count": 14,
   "id": "0fb91d37-78ca-4caf-8eaf-8f2a2f3d5959",
   "metadata": {},
   "outputs": [
    {
     "data": {
      "image/png": "[encoded data removed]",
      "text/plain": [
       "<Figure size 900x600 with 2 Axes>"
      ]
     },
     "metadata": {},
     "output_type": "display_data"
    }
   ],
   "source": [
    "# 通过PACF图和ACF确定p和q值\n",
    "from statsmodels.graphics.tsaplots import plot_pacf,plot_acf\n",
    "\n",
    "fig, (ax1, ax2) = plt.subplots(2, 1, figsize=(9, 6))\n",
    "plot_pacf(train_diff, lags=20, ax=ax1)\n",
    "plot_acf(train_diff, lags=20, ax=ax2)\n",
    "plt.show()"
   ]
  },
  {
   "cell_type": "markdown",
   "id": "68b4dc2a-f15c-4663-a7fb-b3874ddcf718",
   "metadata": {},
   "source": [
    "由ACF图和PACF图可知，p=10，q= 10。"
   ]
  },
  {
   "cell_type": "code",
   "execution_count": 15,
   "id": "cc171f11-d1b2-40c0-a24f-8ad13ed88fd3",
   "metadata": {},
   "outputs": [],
   "source": [
    "# 根据ACF和PACF图选择参数，p=1, q=1\n",
    "p, d, q = 10, 1, 10"
   ]
  },
  {
   "cell_type": "markdown",
   "id": "0ab438cb-ef74-465d-8115-d3e39a166b78",
   "metadata": {},
   "source": [
    "## 五、模型训练"
   ]
  },
  {
   "cell_type": "code",
   "execution_count": 16,
   "id": "9d5c1195-0d58-4d79-9516-bb33f70237ae",
   "metadata": {},
   "outputs": [
    {
     "name": "stdout",
     "output_type": "stream",
     "text": [
      "                               SARIMAX Results                                \n",
      "==============================================================================\n",
      "Dep. Variable:                   Open   No. Observations:                  245\n",
      "Model:               ARIMA(10, 1, 10)   Log Likelihood                -660.789\n",
      "Date:                Wed, 17 Sep 2025   AIC                           1363.577\n",
      "Time:                        14:08:05   BIC                           1437.018\n",
      "Sample:                             0   HQIC                          1393.155\n",
      "                                - 245                                         \n",
      "Covariance Type:                  opg                                         \n",
      "==============================================================================\n",
      "                 coef    std err          z      P>|z|      [0.025      0.975]\n",
      "------------------------------------------------------------------------------\n",
      "ar.L1         -0.4136      0.490     -0.844      0.398      -1.374       0.546\n",
      "ar.L2         -0.3602      0.673     -0.535      0.592      -1.679       0.958\n",
      "ar.L3          0.2355      0.835      0.282      0.778      -1.400       1.871\n",
      "ar.L4         -0.1770      0.789     -0.224      0.822      -1.723       1.369\n",
      "ar.L5          0.3836      0.700      0.548      0.583      -0.987       1.755\n",
      "ar.L6          0.1812      0.692      0.262      0.794      -1.176       1.538\n",
      "ar.L7         -0.0829      0.814     -0.102      0.919      -1.679       1.513\n",
      "ar.L8          0.1347      0.871      0.155      0.877      -1.572       1.841\n",
      "ar.L9          0.4410      0.646      0.682      0.495      -0.826       1.708\n",
      "ar.L10         0.4430      0.475      0.932      0.352      -0.489       1.375\n",
      "ma.L1          0.4595      0.482      0.954      0.340      -0.484       1.403\n",
      "ma.L2          0.3826      0.734      0.522      0.602      -1.055       1.821\n",
      "ma.L3         -0.2704      0.902     -0.300      0.764      -2.039       1.498\n",
      "ma.L4          0.2205      0.782      0.282      0.778      -1.312       1.753\n",
      "ma.L5         -0.3694      0.773     -0.478      0.633      -1.884       1.145\n",
      "ma.L6         -0.2145      0.698     -0.307      0.759      -1.583       1.154\n",
      "ma.L7          0.0607      0.830      0.073      0.942      -1.567       1.688\n",
      "ma.L8         -0.0954      0.882     -0.108      0.914      -1.824       1.633\n",
      "ma.L9         -0.4017      0.710     -0.566      0.572      -1.794       0.990\n",
      "ma.L10        -0.6316      0.561     -1.127      0.260      -1.730       0.467\n",
      "sigma2        12.6991      3.696      3.436      0.001       5.455      19.943\n",
      "===================================================================================\n",
      "Ljung-Box (L1) (Q):                   0.00   Jarque-Bera (JB):                17.93\n",
      "Prob(Q):                              0.95   Prob(JB):                         0.00\n",
      "Heteroskedasticity (H):               2.58   Skew:                             0.01\n",
      "Prob(H) (two-sided):                  0.00   Kurtosis:                         4.33\n",
      "===================================================================================\n",
      "\n",
      "Warnings:\n",
      "[1] Covariance matrix calculated using the outer product of gradients (complex-step).\n"
     ]
    }
   ],
   "source": [
    "# 训练ARIMA模型\n",
    "model = ARIMA(train, order=(p, d, q))\n",
    "model_fit = model.fit()\n",
    "\n",
    "print(model_fit.summary())"
   ]
  },
  {
   "cell_type": "markdown",
   "id": "747bd986-cc74-406f-8d68-49ca12d3b690",
   "metadata": {},
   "source": [
    "## 六、模型评估"
   ]
  },
  {
   "cell_type": "code",
   "execution_count": 17,
   "id": "a4d6caf4-f9b2-4032-98ba-f20705137a92",
   "metadata": {},
   "outputs": [],
   "source": [
    "# 在测试集上进行预测\n",
    "start_index = len(train)\n",
    "end_index = len(train) + len(test) - 1\n",
    "predictions = model_fit.predict(start=start_index, end=end_index, dynamic=False)"
   ]
  },
  {
   "cell_type": "code",
   "execution_count": 18,
   "id": "c1e13bf6-f083-4b2d-8d6f-76b9cb1e6558",
   "metadata": {},
   "outputs": [
    {
     "name": "stdout",
     "output_type": "stream",
     "text": [
      "测试集MSE: 23.5931\n",
      "测试集RMSE: 4.8573\n",
      "测试集MAE: 4.2927\n"
     ]
    }
   ],
   "source": [
    "# 计算评估指标\n",
    "mse = mean_squared_error(test, predictions)\n",
    "rmse = sqrt(mse)\n",
    "mae = mean_absolute_error(test, predictions)\n",
    "\n",
    "print(f\"测试集MSE: {mse:.4f}\")\n",
    "print(f\"测试集RMSE: {rmse:.4f}\")\n",
    "print(f\"测试集MAE: {mae:.4f}\")"
   ]
  },
  {
   "cell_type": "markdown",
   "id": "c036e91e-756f-455f-94bb-3aeda974d528",
   "metadata": {},
   "source": [
    "## 七、模型预测"
   ]
  },
  {
   "cell_type": "code",
   "execution_count": 19,
   "id": "58c2baf7-9145-459e-ac8f-7f2a45f403ac",
   "metadata": {},
   "outputs": [],
   "source": [
    "# 使用全部数据重新训练模型\n",
    "full_model = ARIMA(ts, order=(p, d, q))\n",
    "full_model_fit = full_model.fit()\n",
    "\n",
    "# 预测未来7天\n",
    "forecast = full_model_fit.forecast(steps=7)\n",
    "forecast_index = pd.date_range(start=ts.index[-1] + pd.Timedelta(days=1), periods=7)"
   ]
  },
  {
   "cell_type": "markdown",
   "id": "fdc4a878-7643-45e0-b360-2562d15d1b50",
   "metadata": {},
   "source": [
    "## 八、可视化结果"
   ]
  },
  {
   "cell_type": "code",
   "execution_count": 20,
   "id": "51080706-f76a-4b9c-b6ea-14c465ee095c",
   "metadata": {},
   "outputs": [
    {
     "data": {
      "image/png": "[encoded data removed]",
      "text/plain": [
       "<Figure size 900x600 with 1 Axes>"
      ]
     },
     "metadata": {},
     "output_type": "display_data"
    }
   ],
   "source": [
    "plt.figure(figsize=(9, 6))\n",
    "\n",
    "# 绘制历史数据\n",
    "plt.plot(ts.index, ts.values, label='历史开盘价', color='blue')\n",
    "\n",
    "# 绘制测试集预测\n",
    "plt.plot(test.index, predictions, label='测试集预测', color='orange')\n",
    "\n",
    "# 绘制未来7天预测\n",
    "plt.plot(forecast_index, forecast, label='未来7天预测', color='red', linestyle='--',)\n",
    "\n",
    "# 添加图例和标签\n",
    "plt.legend(loc='best')\n",
    "plt.title(f'Amazon公司股票开盘价预测')\n",
    "plt.xlabel('日期')\n",
    "plt.ylabel('开盘价')\n",
    "plt.grid(True)\n",
    "\n",
    "# 添加垂直线标记训练集结束的位置\n",
    "plt.axvline(x=ts.index[train_size-1], color='gray', linestyle='--', alpha=0.7)\n",
    "\n",
    "plt.tight_layout()\n",
    "plt.show()"
   ]
  },
  {
   "cell_type": "code",
   "execution_count": 21,
   "id": "159d8b58-a723-4246-ac1d-5474e43a2f57",
   "metadata": {},
   "outputs": [
    {
     "name": "stdout",
     "output_type": "stream",
     "text": [
      "未来7天开盘价预测:\n",
      "第1天 (2022-09-01): 128.84\n",
      "第2天 (2022-09-02): 128.37\n",
      "第3天 (2022-09-03): 128.49\n",
      "第4天 (2022-09-04): 128.63\n",
      "第5天 (2022-09-05): 129.41\n",
      "第6天 (2022-09-06): 128.94\n",
      "第7天 (2022-09-07): 128.10\n"
     ]
    }
   ],
   "source": [
    "# 打印预测结果\n",
    "print(\"未来7天开盘价预测:\")\n",
    "for i, (date, value) in enumerate(zip(forecast_index, forecast)):\n",
    "    print(f\"第{i+1}天 ({date.strftime('%Y-%m-%d')}): {value:.2f}\")"
   ]
  }
 ],
 "metadata": {
  "kernelspec": {
   "display_name": "Python 3 (ipykernel)",
   "language": "python",
   "name": "python3"
  },
  "language_info": {
   "codemirror_mode": {
    "name": "ipython",
    "version": 3
   },
   "file_extension": ".py",
   "mimetype": "text/x-python",
   "name": "python",
   "nbconvert_exporter": "python",
   "pygments_lexer": "ipython3",
   "version": "3.12.4"
  }
 },
 "nbformat": 4,
 "nbformat_minor": 5
}
